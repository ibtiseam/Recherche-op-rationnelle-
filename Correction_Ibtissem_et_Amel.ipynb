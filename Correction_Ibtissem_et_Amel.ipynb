{
 "cells": [
  {
   "cell_type": "markdown",
   "metadata": {},
   "source": [
    "<img src=\"tpan1.png\">\n",
    "\n",
    "###### Réaliser par : \n",
    "#### Amel ELAGAS 2 DNI 1\n",
    "#### ibtissem BOUZIDI 2 DNI 1"
   ]
  },
  {
   "cell_type": "markdown",
   "metadata": {},
   "source": [
    "<p><blockquote> Programmation Linéaire, `Méthode du Simplexe` &#x1F600;</blockquote></p>"
   ]
  },
  {
   "cell_type": "markdown",
   "metadata": {},
   "source": [
    "* **<span style=\"color:#0000C0\">Correction `Exercice 2` : </span>**\n"
   ]
  },
  {
   "cell_type": "markdown",
   "metadata": {},
   "source": [
    "<center> Max $z = 2x_{1} + x_{2}$</center>\n",
    "<center>  $x_{1} + 2x_{2} ≤ 10$</center>\n",
    "<center>  $3x_{1} - 2x_{2} ≤ 5$</center>\n",
    "<center>  $x_{1} + x_{2}  ≥ 0$</center>\n"
   ]
  },
  {
   "cell_type": "markdown",
   "metadata": {},
   "source": [
    "* <p>On a $x_{1} + 2x_{2}+ x_{3}=10$</p>\n",
    " </p> $3x_{1} - 2x_{2}+ x_{4}=5 $ </p>\n",
    "* <p>On part de la solution de base :\n",
    "  $x_{1}=x_{2}=0 , x_{4}=5 , x_{3}=10$</p>\n",
    "  \n",
    "<span style=\"color:#0000C0\">→ A ce stade, la valeur de la fonction économique est $z = 0$.</span>\n",
    "            \n"
   ]
  },
  {
   "cell_type": "markdown",
   "metadata": {},
   "source": [
    "* Données du problème : &nbsp;\n",
    "$A = \n",
    "\\left(\\begin{array}{cc} \n",
    "1 & 2 & 1 & 0\\\\\n",
    "3 & -2 & 0 & 1\n",
    "\\end{array}\\right)\n",
    "$ &nbsp; \n",
    "$B = \n",
    "\\left(\\begin{array}{cc} \n",
    "10\\\\\n",
    "5 \n",
    "\\end{array}\\right)\n",
    "$&nbsp;\n",
    "$C = \n",
    "\\left(\\begin{array}{cc} \n",
    "2 & 1 & 0 & 0\\\\ \n",
    "\\end{array}\\right)\n",
    "$\n",
    "  "
   ]
  },
  {
   "cell_type": "markdown",
   "metadata": {},
   "source": [
    "* $ B = 10A_{3 }+ 5A_{4} $"
   ]
  },
  {
   "cell_type": "markdown",
   "metadata": {},
   "source": [
    "\n",
    "1) <span style=\"color:red\">calcul des coefficients $⍺_{i,j}$ :</span>\n",
    "* On cherche les coefficients $⍺_{i,j}$ permettant de calculer les coûts marginaux des deux variables $x_{1}$ et $ x_{2}$"
   ]
  },
  {
   "cell_type": "markdown",
   "metadata": {},
   "source": [
    "<center> \n",
    " $$A_{1} = ⍺_{31}A_{3} + ⍺_{41}A_{4} $$\n",
    "$$ A_{2}=⍺_{32}A_{3} + ⍺_{42} A_{4} $$\n",
    "</center>\n"
   ]
  },
  {
   "cell_type": "markdown",
   "metadata": {},
   "source": [
    "<center> Ce qui donne : \n",
    "$$ ⍺_{32}=2 ,$$ $$⍺_{42}=-2 ,$$ $$⍺_{31}=1 ,$$ $$ ⍺_{41}=3 .$$\n",
    "</center>"
   ]
  },
  {
   "cell_type": "markdown",
   "metadata": {},
   "source": [
    "2) <span style=\"color:red\">Itération 1 : vecteurs entrant et sortant :</span>"
   ]
  },
  {
   "cell_type": "markdown",
   "metadata": {},
   "source": [
    "\n",
    "* Vecteur Entrant :\n",
    "\n",
    "</br><span style=\"color:#0000C0\">→ Calcul des coûts marginaux :</span>"
   ]
  },
  {
   "cell_type": "markdown",
   "metadata": {},
   "source": [
    "<p>$𝛿_{1} = c_{1}- ⍺_{31} c_{3} - ⍺_{41} c_{4} = 2- 1*0-3*0= 2$ </p>\n",
    "</br>$𝛿_{2} = c_{2}- ⍺_{32} c_{3} - ⍺_{42} c_{4} = 1- 2*0- (-2)*0 = 1$"
   ]
  },
  {
   "cell_type": "markdown",
   "metadata": {},
   "source": [
    " <div class=\"alert alert-block alert-danger\">** <span style=\"color:#800000\">Le vecteur entrant dans la base est donc $ A_{1}$. (plus gros coût marginal positif). </span>** </div>\n"
   ]
  },
  {
   "cell_type": "markdown",
   "metadata": {},
   "source": [
    "* Vecteur Sortant :\n",
    "<p> $θ = minimum(\\frac{x_{3}}{⍺_{31}} = \\frac{10}{2}=5, \\frac{x_{4}}{⍺_{41}}=\\frac{5}{3}) = \\frac{5}{3}. $</p>\n"
   ]
  },
  {
   "cell_type": "markdown",
   "metadata": {},
   "source": [
    "<div class=\"alert alert-block alert-danger\">** <span style=\"color:#800000\">Le vecteur sortant de la base est donc $ A_{4}$ : la plus petite valeur  </span>** </div>"
   ]
  },
  {
   "cell_type": "markdown",
   "metadata": {},
   "source": [
    "<span style=\"color:#0000C0\">→  nouveau sommet:</span>\n",
    "<p>Nous avons donc une nouvelle base (A1, A3) = nouveau sommet = nouvelle solution Le vecteur B s'écrit donc comme combinaison linéaire de la nouvelle base</p> \n",
    "<p>* $x'_{1} = θ =\\frac{5}{3} $</p>\n",
    "<p>* $ x'_{2} = 0$</p>\n",
    " <p>* $ x'_{3} = x_{3} - θ*⍺_{31} = 10 – (\\frac{5}{3})*1 = \\frac{25}{3}$ </p>\n",
    "<p>* $ x'4 = 0. $</p>\n",
    "\n"
   ]
  },
  {
   "cell_type": "markdown",
   "metadata": {},
   "source": [
    "<center><div class=\"alert alert-success\"> **<span style=\"color:#707000\">Nouveau sommet : $(\\frac{5}{3} , \\frac{25}{3})$ <br>\n",
    "     Le profit $ z $ augmente de $θ*𝛿_{1}=(\\frac{5}{3})*2 = \\frac{10}{3}$ (θ fois l’entrant). \n",
    "    </span>**</div></center>"
   ]
  },
  {
   "cell_type": "markdown",
   "metadata": {},
   "source": [
    "1) \n",
    "<span style=\"color:red\">Itération 2 : calcul des coefficients $⍺_{i,j}$  :</span>\n",
    "*  Maintenant, on a : $B = \\frac{5}{3} A_{1} + \\frac{25}{3}A_{3}.$\n",
    "* On cherche les coefficients $⍺_{i,j}$ permettant de calculer les coûts marginaux des deux variables $x_{2}$ et $ x_{4}$"
   ]
  },
  {
   "cell_type": "markdown",
   "metadata": {},
   "source": [
    "<center> \n",
    " $$A_{2} = ⍺_{12}A_{1} + ⍺_{32}A_{3} $$\n",
    "$$ A_{4}=⍺_{14}A_{1} + ⍺_{34} A_{3} $$\n",
    "</center>\n",
    "<center> Ce qui donne : \n",
    "$$ ⍺_{12}= \\frac{-2}{3},$$ $$⍺_{14}=\\frac{1}{3} ,$$ $$⍺_{32}=\\frac{8}{3} ,$$ $$ ⍺_{34}=\\frac{-1}{3}.$$\n",
    "</center>"
   ]
  },
  {
   "cell_type": "markdown",
   "metadata": {},
   "source": [
    "2) <span style=\"color:red\">Itération 1 : vecteurs entrant et sortant :</span>\n",
    "* Vecteur Entrant :\n",
    "\n",
    "</br><span style=\"color:#0000C0\">→ Calcul des coûts marginaux :</span>\n"
   ]
  },
  {
   "cell_type": "markdown",
   "metadata": {},
   "source": [
    " $𝛿_{2} = c_{2}- ⍺_{12} c_{1} - ⍺_{32} c_{3} = 1- \\frac{-2}{3}*2-\\frac{8}{3}*0= \\frac{7}{3}$\n",
    " <br>$𝛿_{4} = c_{4}- ⍺_{14} c_{1} - ⍺_{34} c_{3} = 0- \\frac{1}{3}*2- \\frac{-1}{3}*0 = \\frac{-2}{3}$\n",
    " "
   ]
  },
  {
   "cell_type": "markdown",
   "metadata": {},
   "source": [
    " <div class=\"alert alert-block alert-danger\">** <span style=\"color:#800000\">Le vecteur entrant dans la base est donc $ A_{2}$. (plus gros coût marginal positif). </span>** </div>\n",
    " \n",
    " \n",
    " * Vecteur Sortant :\n",
    "<p> $θ = minimum(\\frac{x_{1}}{⍺_{12}} = \\frac{\\frac{5}{3}}{\\frac{-2}{3}}=5, \\frac{x_{3}}{⍺_{32}}=\\frac{25}{8}) = \\frac{25}{8}. $</p>\n",
    "\n",
    "<div class=\"alert alert-block alert-danger\">** <span style=\"color:#800000\">Le vecteur sortant de la base est donc $ A_{3}$ : la plus petite valeur  </span>** </div>\n",
    "\n"
   ]
  },
  {
   "cell_type": "markdown",
   "metadata": {},
   "source": [
    "\n",
    "\n",
    "<span style=\"color:#0000C0\">→  nouveau sommet:</span>\n",
    "\n",
    "<p>Nous avons donc une nouvelle base $(A_{1,} A_{2})$ = nouveau sommet = nouvelle solution Le vecteur$ B $ s'écrit donc comme combinaison linéaire de la nouvelle base</p> \n",
    "<p>* $x''_{1} = x_{1} - θ*⍺_{12} = \\frac{5}{3} – (\\frac{25}{8})*\\frac{-2}{3} = \\frac{15}{4} $</p>\n",
    "<p>* $ x''_{2} = θ =\\frac{25}{8}$</p>\n",
    " <p>* $ x''_{3} = 0 $ </p>\n",
    "<p>* $ x''4 = 0. $</p>\n",
    "\n",
    "\n",
    "<center><div class=\"alert alert-success\"> **<span style=\"color:#707000\">Nouveau sommet : $(\\frac{15}{4} , \\frac{25}{8})$ <br>\n",
    "     Le profit $ z $ augmente de $θ*𝛿_{2}=(\\frac{25}{8})*\\frac{7}{3}= \\frac{175}{24}$ (θ fois l’entrant). \n",
    "    </span>**</div></center>"
   ]
  },
  {
   "cell_type": "markdown",
   "metadata": {},
   "source": [
    "1) \n",
    "<span style=\"color:red\">Itération 2 : calcul des coefficients $⍺_{i,j}$  :</span>\n",
    "*  Maintenant, on a : $B = \\frac{15}{4} A_{1} + \\frac{25}{8}A_{2}.$\n",
    "* On cherche les coefficients $⍺_{i,j}$ permettant de calculer les coûts marginaux des deux variables $x_{3}$ et $ x_{4}$"
   ]
  },
  {
   "cell_type": "markdown",
   "metadata": {},
   "source": [
    "<center> \n",
    " $$A_{3} = ⍺_{13}A_{1} + ⍺_{23}A_{2} $$\n",
    "$$ A_{4}=⍺_{14}A_{1} + ⍺_{24} A_{2} $$\n",
    "</center>\n",
    "<center> Ce qui donne : \n",
    "$$ ⍺_{13}= \\frac{1}{4},$$ $$⍺_{23}=\\frac{3}{8} ,$$ $$⍺_{14}=\\frac{1}{4} ,$$ $$ ⍺_{24}=\\frac{-1}{8}.$$\n",
    "</center>"
   ]
  },
  {
   "cell_type": "markdown",
   "metadata": {},
   "source": [
    "2) <span style=\"color:red\">Itération 2 : vecteurs entrant et sortant :</span>\n",
    "* Vecteur Entrant :\n",
    "\n",
    "</br><span style=\"color:#0000C0\">→ Calcul des coûts marginaux :</span>\n",
    "\n",
    "    \n",
    " $𝛿_{3} = c_{3}- ⍺_{13} c_{1} - ⍺_{23} c_{2} = 0- \\frac{1}{4}*2-\\frac{3}{8}*1= \\frac{-7}{3}$\n",
    " <br>$𝛿_{4} = c_{4}- ⍺_{14} c_{1} - ⍺_{24} c_{2} = 0- \\frac{1}{4}*2- \\frac{1}{8}*1 = \\frac{-3}{8}$"
   ]
  },
  {
   "cell_type": "markdown",
   "metadata": {},
   "source": [
    " <div class=\"alert alert-block alert-danger\">** <span style=\"color:#800000\">\n",
    "Tout les côut marginaux sont négatifs aucun vecteur d'entrer\n",
    "<br>Il n'y a donc plus possibilité d'améliorer le profit la solution optimale est donnée pour ($x_{1} =\\frac{15}{4}$ et $ x_{2} = \\frac{25}{8}$) Elle conduit à un profit de $\\frac{175}{24}$ </span>** </div>"
   ]
  },
  {
   "cell_type": "markdown",
   "metadata": {},
   "source": [
    "* **<span style=\"color:#0000C0\">Correction `Exercice 3` : </span>**\n",
    "    <center> Max $z = 2x_{1} - x_{2}$</center>\n",
    "<center>  $3x_{1} + 2x_{2} ≤ 11$</center>\n",
    "<center>  $3x_{1} - 2x_{2} ≤ 4$</center>\n",
    "<center>  $x_{1} , x_{2}  ≥ 0$</center>\n",
    "\n",
    "* <p>On a $x_{1} + 2x_{2}+ x_{3}=10$</p>\n",
    " </p> $3x_{1} - 2x_{2}+ x_{4}=4 $ </p>\n",
    "* <p>On part de la solution de base :\n",
    "  $x_{1}=x_{2}=0 , x_{4}=11 , x_{3}=4$</p>\n",
    "  \n",
    "<span style=\"color:#0000C0\">→ A ce stade, la valeur de la fonction économique est $z = 0$.</span>"
   ]
  },
  {
   "cell_type": "markdown",
   "metadata": {},
   "source": [
    "* Données du problème : &nbsp;\n",
    "$A = \n",
    "\\left(\\begin{array}{cc} \n",
    "3 & 2 & 1 & 0\\\\\n",
    "3 & -2 & 0 & 1\n",
    "\\end{array}\\right)\n",
    "$ &nbsp; \n",
    "$B = \n",
    "\\left(\\begin{array}{cc} \n",
    "11\\\\\n",
    "4 \n",
    "\\end{array}\\right)\n",
    "$&nbsp;\n",
    "$C = \n",
    "\\left(\\begin{array}{cc} \n",
    "2 & -1 & 0 & 0\\\\ \n",
    "\\end{array}\\right)\n",
    "$\n",
    "  * $ B = 11A_{3 }+ 4A_{4} $"
   ]
  },
  {
   "cell_type": "markdown",
   "metadata": {},
   "source": [
    "\n",
    "1) <span style=\"color:red\">calcul des coefficients $⍺_{i,j}$ :</span>\n",
    "* On cherche les coefficients $⍺_{i,j}$ permettant de calculer les coûts marginaux des deux variables $x_{1}$ et $ x_{2}$\n",
    "\n",
    "<center> \n",
    " $$A_{1} = ⍺_{31}A_{3} + ⍺_{41}A_{4} $$\n",
    "$$ A_{2}=⍺_{32}A_{3} + ⍺_{42} A_{4} $$\n",
    "</center>\n",
    "\n",
    "<center> Ce qui donne : \n",
    "$$ ⍺_{32}=2 ,$$ $$⍺_{42}=-2 ,$$ $$⍺_{31}=1 ,$$ $$ ⍺_{41}=3 .$$\n",
    "</center>"
   ]
  },
  {
   "cell_type": "markdown",
   "metadata": {},
   "source": [
    "2) <span style=\"color:red\">Itération 1 : vecteurs entrant et sortant :</span>\n",
    "\n",
    "* Vecteur Entrant :\n",
    "\n",
    "</br><span style=\"color:#0000C0\">→ Calcul des coûts marginaux :</span>\n",
    "\n",
    "<p>$𝛿_{1} = c_{1}- ⍺_{31} c_{3} - ⍺_{41} c_{4} = 2- 3*0-(-2)*0 = 2$ </p>\n",
    "</br>$𝛿_{2} = c_{2}- ⍺_{32} c_{3} - ⍺_{42} c_{4} = (-1)- 2*0- (-2)*0 = -1$\n"
   ]
  },
  {
   "cell_type": "markdown",
   "metadata": {},
   "source": [
    " <div class=\"alert alert-block alert-danger\">** <span style=\"color:#800000\">Le vecteur entrant dans la base est donc $ A_{1}$. (plus gros coût marginal positif). </span>** </div>\n",
    "* Vecteur Sortant :\n",
    "<p> $θ = minimum(\\frac{x_{3}}{⍺_{31}} = \\frac{11}{3}=5, \\frac{x_{4}}{⍺_{41}}=\\frac{4}{3}) = \\frac{4}{3}. $</p>\n",
    "<div class=\"alert alert-block alert-danger\">** <span style=\"color:#800000\">Le vecteur sortant de la base est donc $ A_{4}$ : la plus petite valeur  </span>** </div>"
   ]
  },
  {
   "cell_type": "markdown",
   "metadata": {},
   "source": [
    "<span style=\"color:#0000C0\">→  nouveau sommet:</span>\n",
    "<p>Nous avons donc une nouvelle base (A1, A3) = nouveau sommet = nouvelle solution Le vecteur B s'écrit donc comme combinaison linéaire de la nouvelle base</p> \n",
    "<p>* $x'_{1} = θ =\\frac{4}{3} $</p>\n",
    "<p>* $ x'_{2} = 0$</p>\n",
    " <p>* $ x'_{3} = x_{3} - θ*⍺_{31} = 10 – (\\frac{4}{3})*3 = 7$ </p>\n",
    "<p>* $ x'4 = 0. $</p>\n",
    "<center><div class=\"alert alert-success\"> **<span style=\"color:#707000\">Nouveau sommet : $(\\frac{4}{3} , 7)$ <br>\n",
    "     Le profit $ z $ augmente de $θ*𝛿_{1}=(\\frac{4}{3})*2 = \\frac{8}{3}$ (θ fois l’entrant). \n",
    "    </span>**</div></center>\n"
   ]
  },
  {
   "cell_type": "markdown",
   "metadata": {},
   "source": [
    "1) \n",
    "<span style=\"color:red\">Itération 2 : calcul des coefficients $⍺_{i,j}$  :</span>\n",
    "*  Maintenant, on a : $B = \\frac{4}{3} A_{1} + 7A_{3}.$\n",
    "* On cherche les coefficients $⍺_{i,j}$ permettant de calculer les coûts marginaux des deux variables $x_{2}$ et $ x_{4}$\n",
    "<center> \n",
    " $$A_{2} = ⍺_{12}A_{1} + ⍺_{32}A_{3} $$\n",
    "$$ A_{4}=⍺_{14}A_{1} + ⍺_{34} A_{3} $$\n",
    "</center>\n",
    "<center> Ce qui donne : \n",
    "$$ ⍺_{12}= \\frac{-2}{3},$$ $$⍺_{14}=\\frac{1}{3} ,$$ $$⍺_{32}=4 ,$$ $$ ⍺_{34}=-1.$$\n",
    "</center>"
   ]
  },
  {
   "cell_type": "markdown",
   "metadata": {},
   "source": [
    "2) <span style=\"color:red\">Itération 2 : vecteurs entrant et sortant :</span>\n",
    "* Vecteur Entrant :\n",
    "\n",
    "</br><span style=\"color:#0000C0\">→ Calcul des coûts marginaux :</span>\n",
    " $𝛿_{2} = c_{2}- ⍺_{12} c_{1} - ⍺_{32} c_{3} = -1-( \\frac{-2}{3})*2-4*0= \\frac{1}{3}$\n",
    " <br>$𝛿_{4} = c_{4}- ⍺_{14} c_{1} - ⍺_{34} c_{3} = 0- \\frac{1}{3}*2-( \\frac{-1}{3)}*0 = \\frac{-2}{3}$\n",
    "  <div class=\"alert alert-block alert-danger\">** <span style=\"color:#800000\">Le vecteur entrant dans la base est donc $ A_{2}$. (plus gros coût marginal positif). </span>** </div>\n",
    " \n",
    " \n",
    " * Vecteur Sortant :\n",
    "<p> $θ = minimum(\\frac{x_{1}}{⍺_{12}} = \\frac{\\frac{4}{3}}{\\frac{-2}{3}}=-2, \\frac{x_{3}}{⍺_{32}}=\\frac{7}{4}) = \\frac{7}{4}. $</p>\n",
    "\n",
    "<div class=\"alert alert-block alert-danger\">** <span style=\"color:#800000\">Le vecteur sortant de la base est donc $ A_{3}$ : la plus petite valeur  </span>** </div>\n"
   ]
  },
  {
   "cell_type": "markdown",
   "metadata": {},
   "source": [
    "<span style=\"color:#0000C0\">→  nouveau sommet:</span>\n",
    "<p>Nous avons donc une nouvelle base (A1, A3) = nouveau sommet = nouvelle solution Le vecteur $B$ s'écrit donc comme combinaison linéaire de la nouvelle base</p> \n",
    "<p>* $x''_{1} = x_{1} - θ*⍺_{12} = \\frac{4}{3} – (\\frac{7}{4})*(\\frac{-2}{3}) = \\frac{5}{2} $</p>\n",
    "<p>* $ x''_{2} =  θ =\\frac{7}{4}$</p>\n",
    " <p>* $ x''_{3} =0$ </p>\n",
    "<p>* $ x''4 = 0. $</p>\n",
    "\n",
    "<center><div class=\"alert alert-success\"> **<span style=\"color:#707000\">Nouveau sommet : $(\\frac{5}{2} , \\frac{7}{4})$ <br>\n",
    "     Le profit $ z_{1} $ augmente de $θ*𝛿_{2}=(\\frac{7}{4})*(\\frac{1}{3}) = \\frac{17}{12}$ (θ fois l’entrant). \n",
    "    </span>**</div></center>\n",
    "  \n"
   ]
  },
  {
   "cell_type": "markdown",
   "metadata": {},
   "source": [
    ">La solution optimale est $(\\frac{4}{3},7)$ puisque on a $ z>z_{1}$!"
   ]
  },
  {
   "cell_type": "markdown",
   "metadata": {},
   "source": [
    "* **<span style=\"color:#0000C0\">Correction `Exercice 4` : </span>**\n",
    "    <center> Max $z = 3x_{1} - 2x_{2}$</center>\n",
    "<center>  $3x_{1} + 2x_{2} ≤ 11$</center>\n",
    "<center>  $3x_{1} - 2x_{2} ≤ 4$</center>\n",
    "<center>  $x_{1} , x_{2}  ≥ 0$</center>\n",
    "\n",
    "* <p>On a $x_{1} + 2x_{2}+ x_{3}=11$</p>\n",
    " </p> $3x_{1} - 2x_{2}+ x_{4}=4 $ </p>\n",
    "* <p>On part de la solution de base :\n",
    "  $x_{1}=x_{2}=0 , x_{4}=11 , x_{3}=4$</p>\n",
    "  \n",
    "<span style=\"color:#0000C0\">→ A ce stade, la valeur de la fonction économique est $z = 0$.</span>"
   ]
  },
  {
   "cell_type": "markdown",
   "metadata": {},
   "source": [
    "* Données du problème : &nbsp;\n",
    "$A = \n",
    "\\left(\\begin{array}{cc} \n",
    "3 & 2 & 1 & 0\\\\\n",
    "3 & -2 & 0 & 1\n",
    "\\end{array}\\right)\n",
    "$ &nbsp; \n",
    "$B = \n",
    "\\left(\\begin{array}{cc} \n",
    "11\\\\\n",
    "4 \n",
    "\\end{array}\\right)\n",
    "$&nbsp;\n",
    "$C = \n",
    "\\left(\\begin{array}{cc} \n",
    "3 & -2 & 0 & 0\\\\ \n",
    "\\end{array}\\right)\n",
    "$\n",
    "* $ B = 11A_{3 }+ 4A_{4} $\n",
    "  \n",
    "  \n",
    "1) <span style=\"color:red\">calcul des coefficients $⍺_{i,j}$ :</span>\n",
    "* On cherche les coefficients $⍺_{i,j}$ permettant de calculer les coûts marginaux des deux variables $x_{1}$ et $ x_{2}$\n",
    "\n",
    "<center> \n",
    " $$A_{1} = ⍺_{31}A_{3} + ⍺_{41}A_{4} $$\n",
    "$$ A_{2}=⍺_{32}A_{3} + ⍺_{42} A_{4} $$\n",
    "</center>\n",
    "\n",
    "<center> Ce qui donne : \n",
    "$$ ⍺_{32}=2 ,$$ $$⍺_{42}=-2 ,$$ $$⍺_{31}=3 ,$$ $$ ⍺_{41}=3 .$$\n",
    "</center>"
   ]
  },
  {
   "cell_type": "markdown",
   "metadata": {},
   "source": [
    "2) <span style=\"color:red\">Itération 1 : vecteurs entrant et sortant :</span>\n",
    "\n",
    "* Vecteur Entrant :\n",
    "\n",
    "</br><span style=\"color:#0000C0\">→ Calcul des coûts marginaux :</span>\n",
    "\n",
    "<p>$𝛿_{1} = c_{1}- ⍺_{31} c_{3} - ⍺_{41} c_{4} = 3- 3*0-(-2)*0 = 3$ </p>\n",
    "</br>$𝛿_{2} = c_{2}- ⍺_{32} c_{3} - ⍺_{42} c_{4} = (-2)- 2*0- (-2)*0 = -2$\n",
    " <div class=\"alert alert-block alert-danger\">** <span style=\"color:#800000\">Le vecteur entrant dans la base est donc $ A_{1}$. (plus gros coût marginal positif). </span>** </div>\n"
   ]
  },
  {
   "cell_type": "markdown",
   "metadata": {},
   "source": [
    "     \n",
    "* Vecteur Sortant :\n",
    "<p> $θ = minimum(\\frac{x_{3}}{⍺_{31}} = \\frac{11}{3}, \\frac{x_{4}}{⍺_{41}}=\\frac{4}{3}) = \\frac{4}{3}. $</p>\n",
    "<div class=\"alert alert-block alert-danger\">** <span style=\"color:#800000\">Le vecteur sortant de la base est donc $ A_{4}$ : la plus petite valeur  </span>** </div>"
   ]
  },
  {
   "cell_type": "markdown",
   "metadata": {},
   "source": [
    "<span style=\"color:#0000C0\">→  nouveau sommet:</span>\n",
    "<p>Nous avons donc une nouvelle base (A1, A3) = nouveau sommet = nouvelle solution Le vecteur B s'écrit donc comme combinaison linéaire de la nouvelle base</p> \n",
    "<p>* $x'_{1} = θ =\\frac{4}{3} $</p>\n",
    "<p>* $ x'_{2} = 0$</p>\n",
    " <p>* $ x'_{3} = x_{3} - θ*⍺_{31} = 11 – (\\frac{4}{3})*3 = 7$ </p>\n",
    "<p>* $ x'4 = 0. $</p>\n",
    "<center><div class=\"alert alert-success\"> **<span style=\"color:#707000\">Nouveau sommet : $(\\frac{4}{3} , 7)$ <br>\n",
    "     Le profit $ z $ augmente de $θ*𝛿_{1}=(\\frac{4}{3})*3 =4$ (θ fois l’entrant). \n",
    "    </span>**</div></center>"
   ]
  },
  {
   "cell_type": "markdown",
   "metadata": {},
   "source": [
    "1) \n",
    "<span style=\"color:red\">Itération 2 : calcul des coefficients $⍺_{i,j}$  :</span>\n",
    "*  Maintenant, on a : $B = \\frac{4}{3} A_{1} + 7A_{3}.$\n",
    "* On cherche les coefficients $⍺_{i,j}$ permettant de calculer les coûts marginaux des deux variables $x_{2}$ et $ x_{4}$\n",
    "<center> \n",
    " $$A_{2} = ⍺_{12}A_{1} + ⍺_{32}A_{3} $$\n",
    "$$ A_{4}=⍺_{14}A_{1} + ⍺_{34} A_{3} $$\n",
    "</center>\n",
    "<center> Ce qui donne : \n",
    "$$ ⍺_{12}= \\frac{-2}{3},$$ $$⍺_{14}=\\frac{1}{3} ,$$ $$⍺_{32}=4 ,$$ $$ ⍺_{34}=-1.$$\n",
    "</center>"
   ]
  },
  {
   "attachments": {},
   "cell_type": "markdown",
   "metadata": {},
   "source": [
    "2) <span style=\"color:red\">Itération 2 : vecteurs entrant et sortant :</span>\n",
    "* Vecteur Entrant :\n",
    "\n",
    "<br><span style=\"color:#0000C0\">→ Calcul des coûts marginaux :</span>\n",
    " <br>$𝛿_{2} = c_{2}- ⍺_{12} c_{1} - ⍺_{32} c_{3} = -2-( \\frac{-2}{3})*3-4*0= 0$\n",
    " <br>$𝛿_{4} = c_{4}- ⍺_{14} c_{1} - ⍺_{34} c_{3} = 0- \\frac{1}{3}*3-(-1)*0 = -1$\n",
    "  \n",
    " \n",
    " <div class=\"alert alert-block alert-danger\">** <span style=\"color:#800000\">\n",
    "Il n'y a donc plus possibilité d'améliorer le profit la solution optimale est donnée pour  ($x_{1} =\\frac{4}{3}$ et $ x_{2} = 7$) Elle conduit à un profit de $4$ </span>** </div>\n"
   ]
  }
 ],
 "metadata": {
  "kernelspec": {
   "display_name": "Python 3",
   "language": "python",
   "name": "python3"
  },
  "language_info": {
   "codemirror_mode": {
    "name": "ipython",
    "version": 3
   },
   "file_extension": ".py",
   "mimetype": "text/x-python",
   "name": "python",
   "nbconvert_exporter": "python",
   "pygments_lexer": "ipython3",
   "version": "3.7.1"
  }
 },
 "nbformat": 4,
 "nbformat_minor": 2
}
